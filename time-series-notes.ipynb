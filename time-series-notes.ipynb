{
 "cells": [
  {
   "cell_type": "markdown",
   "metadata": {},
   "source": [
    "# A Tour of Time Series Analysis and Time Series Python Packages*\n",
    "*we have used"
   ]
  },
  {
   "cell_type": "markdown",
   "metadata": {},
   "source": [
    "## Fourier Transform"
   ]
  },
  {
   "cell_type": "markdown",
   "metadata": {},
   "source": [
    "- The Fourier Transform breaks down a signal into its sinosoidal components."
   ]
  },
  {
   "cell_type": "markdown",
   "metadata": {},
   "source": [
    "- One drawback is that the FT lacks time localization."
   ]
  },
  {
   "cell_type": "markdown",
   "metadata": {},
   "source": [
    "## Wavelet Transform"
   ]
  },
  {
   "cell_type": "markdown",
   "metadata": {},
   "source": [
    "https://scicoding.com/introduction-to-wavelet-transform-using-python/"
   ]
  },
  {
   "cell_type": "markdown",
   "metadata": {},
   "source": [
    "- a wavelet is a small wave, i.e. it has limited duration in time. Wavelets are localized in time.\n",
    "- $\\int_{-\\infty}^{+\\infty} \\psi(x) \\,dx = 0$ => the wavelet has equal positive and negative areas, and therefore zero mean\n",
    "- Wavelets can capture noth frequency and time information, therefore well-suited to study non-stationary signals."
   ]
  },
  {
   "cell_type": "markdown",
   "metadata": {},
   "source": [
    "$$CWT_{x} (a, b) = \\int_{-\\infty}^{+\\infty} x(t) \\frac{1}{\\sqrt{|a|}} \\psi(\\frac{t-b}{a})\\,dt$$"
   ]
  },
  {
   "cell_type": "markdown",
   "metadata": {},
   "source": []
  }
 ],
 "metadata": {
  "kernelspec": {
   "display_name": "soft2",
   "language": "python",
   "name": "python3"
  },
  "language_info": {
   "name": "python",
   "version": "3.10.13"
  }
 },
 "nbformat": 4,
 "nbformat_minor": 2
}
