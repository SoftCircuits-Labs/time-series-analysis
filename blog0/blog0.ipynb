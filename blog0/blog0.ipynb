{
 "cells": [
  {
   "cell_type": "markdown",
   "metadata": {},
   "source": [
    "# How To Not Go About Doing Time Series Classification"
   ]
  },
  {
   "cell_type": "markdown",
   "metadata": {},
   "source": [
    "This past year we have been working with time series data from the health domain.\n",
    "Well known examples of time series data from the health domain are ECG readings, EEG readings, traces of position of a person's hand during motion.\n",
    "As with these examples, our data was extracted from a system which would exhibit different dynamics, thus giving different kinds of time series depending on its dynamics. These different dynamics were the different classes or categories that the uystem could be in. And the idea was that the system could transition between these different classes. So, the time series could change dynamically."
   ]
  },
  {
   "cell_type": "markdown",
   "metadata": {},
   "source": [
    "Consider the following illustration as an example of two distinct dynamics exhibited by our system, which can be considered as different classes."
   ]
  },
  {
   "cell_type": "markdown",
   "metadata": {},
   "source": [
    "<img src=\"images/time_series_classes.png\">"
   ]
  },
  {
   "cell_type": "markdown",
   "metadata": {},
   "source": [
    "One of the basic questions we wanted to ask the data was: can we dynamically measure the change in class of the time seires? In other words, can we tell when the time series changes from one category to another? "
   ]
  },
  {
   "cell_type": "markdown",
   "metadata": {},
   "source": [
    "<img src=\"images/time_series_changing_dynamics.png\">"
   ]
  },
  {
   "cell_type": "markdown",
   "metadata": {},
   "source": [
    "This lead to a few more questions: Would this be a simple classification task, given the nature of our data? What kind of training data would we need?"
   ]
  },
  {
   "cell_type": "markdown",
   "metadata": {},
   "source": [
    "Let's deal with one of our questions: Is this a usual classification task and can we use a trusty `sklearn` classifier to do the job?\n",
    "\n",
    "Well, it's not as easy as that.\n",
    "\n",
    "It turns out that in order to use `sklearn` classifiers, we have to consider each data point in the time series as a separate feature, and effectively forget that these points are ordered in time. In other words, `sklearn` classifiers ignore the sequence information in the variables. If the order of these features was changed, say by randomizing the time series, the fitted model and predictions might not change. This might not fly with our particular time series classification use case."
   ]
  },
  {
   "cell_type": "markdown",
   "metadata": {},
   "source": [
    "References:\n",
    "- https://github.com/mloning/intro-to-ml-with-time-series-workshop-2023/blob/main/notebooks/classification/classification.ipynb"
   ]
  }
 ],
 "metadata": {
  "kernelspec": {
   "display_name": "softckts_breath",
   "language": "python",
   "name": "python3"
  },
  "language_info": {
   "codemirror_mode": {
    "name": "ipython",
    "version": 3
   },
   "file_extension": ".py",
   "mimetype": "text/x-python",
   "name": "python",
   "nbconvert_exporter": "python",
   "pygments_lexer": "ipython3",
   "version": "3.12.0"
  }
 },
 "nbformat": 4,
 "nbformat_minor": 2
}
