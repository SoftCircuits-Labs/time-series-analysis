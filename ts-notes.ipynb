{
 "cells": [
  {
   "cell_type": "markdown",
   "metadata": {},
   "source": [
    "# A Tour of Time Series Analysis and Time Series Python Packages*\n",
    "*we have used"
   ]
  },
  {
   "cell_type": "markdown",
   "metadata": {},
   "source": [
    "## Fourier Transform"
   ]
  },
  {
   "cell_type": "markdown",
   "metadata": {},
   "source": [
    "- The Fourier Transform breaks down a signal into its sinosoidal components (called harmonics).\n",
    "- It outputs a frequency distribution of the signal."
   ]
  },
  {
   "cell_type": "markdown",
   "metadata": {},
   "source": [
    "- FT works well with stationary signals.\n",
    "- One drawback is that the FT lacks time localization. This means, we cannot give info about discontinuities, bursts, etc that happen in the time domain."
   ]
  },
  {
   "cell_type": "markdown",
   "metadata": {},
   "source": [
    "- We can do STFT to analyze small sections of the signal at a time, where each segment is assumed to be stationary.\n",
    "- But the problem with STFT is that the window size of the segment cannot be changed, once chosen. This gives dilemma of resolution: if we choose narrow window, we get good time resolution and poor frequency resolution; if we choose wide window, we get poor time resolution and good frequency resolution."
   ]
  },
  {
   "cell_type": "markdown",
   "metadata": {},
   "source": [
    "## Wavelet Transform"
   ]
  },
  {
   "cell_type": "markdown",
   "metadata": {},
   "source": [
    "https://scicoding.com/introduction-to-wavelet-transform-using-python/"
   ]
  },
  {
   "cell_type": "markdown",
   "metadata": {},
   "source": [
    "- a wavelet is a small wave, i.e. it has limited duration in time. Wavelets are localized in time.\n",
    "- $\\int_{-\\infty}^{+\\infty} \\psi(x) \\,dx = 0$ => the wavelet has equal positive and negative areas, and therefore zero mean\n",
    "- Wavelets can capture both frequency and time information, therefore well-suited to study non-stationary signals."
   ]
  },
  {
   "cell_type": "markdown",
   "metadata": {},
   "source": [
    "$$CWT_{x} (a, b) = \\int_{-\\infty}^{+\\infty} x(t) \\frac{1}{\\sqrt{|a|}} \\psi(\\frac{t-b}{a})\\,dt$$\n",
    "\n",
    "$x(t)$: input signal<br>\n",
    "$\\psi$: wavelet function<br>\n",
    "$a$: scale factor (gives info about frequency component of signal)<br>\n",
    "$b$: translation factor (gives info about time localization of signal)<br>"
   ]
  },
  {
   "cell_type": "markdown",
   "metadata": {},
   "source": [
    "- CWT can be thought of as a means to zoom into different postions of the signal (using the scale factor) at different points in time (using the transaltion factor).\n",
    "- While doing wavelet transform,  we can think of the signal to be made up of wavelets of different scales and postions."
   ]
  },
  {
   "cell_type": "markdown",
   "metadata": {},
   "source": [
    "Python Packages for wavelet transformation:\n",
    "- https://pywavelets.readthedocs.io/en/latest/\n",
    "- https://docs.scipy.org/doc/scipy/reference/generated/scipy.signal.cwt.html"
   ]
  },
  {
   "cell_type": "markdown",
   "metadata": {},
   "source": []
  }
 ],
 "metadata": {
  "language_info": {
   "name": "python"
  }
 },
 "nbformat": 4,
 "nbformat_minor": 2
}
